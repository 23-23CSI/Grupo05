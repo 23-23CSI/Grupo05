{
  "cells": [
    {
      "cell_type": "code",
      "execution_count": 1,
      "metadata": {
        "colab": {
          "base_uri": "https://localhost:8080/"
        },
        "id": "_zkPlguGDPHf",
        "outputId": "19e204ce-1474-4f4f-ea56-7584665105dc"
      },
      "outputs": [
        {
          "output_type": "stream",
          "name": "stdout",
          "text": [
            "Looking in indexes: https://pypi.org/simple, https://us-python.pkg.dev/colab-wheels/public/simple/\n",
            "Collecting pycryptodomex\n",
            "  Downloading pycryptodomex-3.18.0-cp35-abi3-manylinux_2_17_x86_64.manylinux2014_x86_64.whl (2.1 MB)\n",
            "\u001b[2K     \u001b[90m━━━━━━━━━━━━━━━━━━━━━━━━━━━━━━━━━━━━━━━━\u001b[0m \u001b[32m2.1/2.1 MB\u001b[0m \u001b[31m41.5 MB/s\u001b[0m eta \u001b[36m0:00:00\u001b[0m\n",
            "\u001b[?25hInstalling collected packages: pycryptodomex\n",
            "Successfully installed pycryptodomex-3.18.0\n"
          ]
        }
      ],
      "source": [
        "!pip install pycryptodomex"
      ]
    },
    {
      "cell_type": "code",
      "execution_count": 9,
      "metadata": {
        "id": "tpLj2xzWDPHi"
      },
      "outputs": [],
      "source": [
        "from cryptography.hazmat.primitives.ciphers import Cipher, algorithms\n",
        "from cryptography.hazmat.primitives.ciphers.aead import ChaCha20Poly1305\n",
        "from cryptography.hazmat.backends import default_backend\n",
        "from pathlib import Path\n",
        "from Cryptodome.Cipher import AES\n",
        "from Cryptodome.Random import get_random_bytes\n",
        "from Cryptodome.Util.Padding import pad, unpad\n",
        "from time import time\n",
        "import random\n",
        "import hashlib"
      ]
    },
    {
      "cell_type": "code",
      "source": [
        "from google.colab import files\n",
        "import os"
      ],
      "metadata": {
        "id": "9qObygKkeRCB"
      },
      "execution_count": 10,
      "outputs": []
    },
    {
      "cell_type": "code",
      "source": [
        "book=files.upload"
      ],
      "metadata": {
        "id": "AuK3rkQR1SAh"
      },
      "execution_count": 4,
      "outputs": []
    },
    {
      "cell_type": "code",
      "execution_count": 35,
      "metadata": {
        "colab": {
          "base_uri": "https://localhost:8080/"
        },
        "id": "6WqE26K8DPHj",
        "outputId": "038182e0-d419-433d-9ae9-a3f75ff71b08"
      },
      "outputs": [
        {
          "output_type": "stream",
          "name": "stdout",
          "text": [
            "b'Lorem ipsum dolor sit amet consectetur adipisicing elit. Fugit, aliquid?'\n",
            "Tiempo de lectura del archivo: 0.002010822296142578 segundos\n"
          ]
        }
      ],
      "source": [
        "start_time1 = time()\n",
        "book = Path(\"lorem10.txt\").read_text().encode(\"utf-8\")\n",
        "print(book)\n",
        "encryption_time1 = time() - start_time1\n",
        "print(\"Tiempo de lectura del archivo: {} segundos\".format(encryption_time1))"
      ]
    },
    {
      "cell_type": "markdown",
      "metadata": {
        "id": "5vTpVWTwDPHk"
      },
      "source": [
        "# Algoritmo Simétrico: Chacha 20 "
      ]
    },
    {
      "cell_type": "markdown",
      "source": [
        "Generación de claves"
      ],
      "metadata": {
        "id": "5NuG1G6lBHvv"
      }
    },
    {
      "cell_type": "code",
      "execution_count": 37,
      "metadata": {
        "id": "1VtGMho_DPHm",
        "outputId": "4d60e550-7d0f-480d-97be-32b74dd8b0c6",
        "colab": {
          "base_uri": "https://localhost:8080/"
        }
      },
      "outputs": [
        {
          "output_type": "stream",
          "name": "stdout",
          "text": [
            "Clave:  b'/l\\xbaO_\\xb2\\xb49U\\x19\\xdc\\xf9\\x05\\x1a\\xc1\\xa8\\xe6\\xe3q\\xd8\\x03@g\\xea\\n\\t\\xbc\\xb4l5P\\x06' b',\\xabU\\xf1N\\xf61\\xaf\\xe10\\x177`\\xc2Ta'\n",
            "Tiempo de generación de clave: 0.0002522468566894531 segundos\n"
          ]
        }
      ],
      "source": [
        "start_time2 = time()\n",
        "key = get_random_bytes(32)  # Clave de 256 bits (32 bytes)\n",
        "nonce = get_random_bytes(16)\n",
        "print(\"Clave: \", key,nonce)\n",
        "encryption_time2 = time() - start_time2\n",
        "print(\"Tiempo de generación de clave: {} segundos\".format(encryption_time2))"
      ]
    },
    {
      "cell_type": "markdown",
      "source": [
        "Cifrado"
      ],
      "metadata": {
        "id": "ik01BvHyBJKn"
      }
    },
    {
      "cell_type": "code",
      "source": [
        "start_time3 = time()\n",
        "cipher = Cipher(algorithms.ChaCha20(key, nonce), mode=None)\n",
        "encryptor = cipher.encryptor()\n",
        "ciphertext = encryptor.update(book) + encryptor.finalize()\n",
        "print(\"Clave: \",ciphertext.hex())\n",
        "encryption_time3 = time() - start_time3\n",
        "print(\"Tiempo de cifrado: {} segundos\".format(encryption_time3))"
      ],
      "metadata": {
        "id": "WaZD69IMtqry",
        "outputId": "3341272f-6c96-4389-efa9-3fec6b856265",
        "colab": {
          "base_uri": "https://localhost:8080/"
        }
      },
      "execution_count": 38,
      "outputs": [
        {
          "output_type": "stream",
          "name": "stdout",
          "text": [
            "Clave:  3ed70d961397b07a159f66d6904a2bb3b732fd8561fc392e519c19d0e63af84232195538cad8abc6409b9606bae074e10b0ad36f289e6dc8889c9b89f7b0af5343d31f34901d3080\n",
            "Tiempo de cifrado: 0.0024995803833007812 segundos\n"
          ]
        }
      ]
    },
    {
      "cell_type": "markdown",
      "source": [
        "Descifrado"
      ],
      "metadata": {
        "id": "GU5BvJusBSj4"
      }
    },
    {
      "cell_type": "code",
      "source": [
        "start_time4 = time()\n",
        "cipher = Cipher(algorithms.ChaCha20(key, nonce), mode=None)\n",
        "decryptor = cipher.decryptor()\n",
        "plaintext = decryptor.update(ciphertext) + decryptor.finalize()\n",
        "print(\"Clave: \", plaintext.decode())\n",
        "encryption_time4 = time() - start_time4\n",
        "print(\"Tiempo de descifrado: {} segundos\".format(encryption_time4))"
      ],
      "metadata": {
        "id": "Dwc4jMh8tqbq",
        "outputId": "842619b4-4318-4364-86fa-3a11636bda9a",
        "colab": {
          "base_uri": "https://localhost:8080/"
        }
      },
      "execution_count": 39,
      "outputs": [
        {
          "output_type": "stream",
          "name": "stdout",
          "text": [
            "Clave:  Lorem ipsum dolor sit amet consectetur adipisicing elit. Fugit, aliquid?\n",
            "Tiempo de descifrado: 0.0015988349914550781 segundos\n"
          ]
        }
      ]
    },
    {
      "cell_type": "markdown",
      "metadata": {
        "id": "izdH6QF1DPHp"
      },
      "source": [
        "# Algoritmo Simétrico: AES"
      ]
    },
    {
      "cell_type": "markdown",
      "metadata": {
        "id": "WrKD_gpWDPHr"
      },
      "source": [
        "Generación de claves"
      ]
    },
    {
      "cell_type": "code",
      "execution_count": 41,
      "metadata": {
        "id": "HjWegcpYDPHr",
        "outputId": "9693e565-7a8c-4856-caf6-3ed8bb6001dc",
        "colab": {
          "base_uri": "https://localhost:8080/"
        }
      },
      "outputs": [
        {
          "output_type": "stream",
          "name": "stdout",
          "text": [
            "Clave:  b'x\\n\\xbd\\xdc\\x18\\n:<z\\x16:\\xb2j\\xc4\\xc0R' b'<-\\x94\\xe6\\x17l `+\\xdf1\\xca\\xed\\xc0C3'\n",
            "Tiempo de generación de clave: 0.0022780895233154297 segundos\n"
          ]
        }
      ],
      "source": [
        "start_time1 = time()\n",
        "key = get_random_bytes(16)  # Clave de 16 bytes (128 bits)\n",
        "iv = get_random_bytes(AES.block_size)\n",
        "print(\"Clave: \", key,iv)\n",
        "encryption_time1 = time() - start_time1\n",
        "print(\"Tiempo de generación de clave: {} segundos\".format(encryption_time1))"
      ]
    },
    {
      "cell_type": "markdown",
      "metadata": {
        "id": "fpcCIaDVDPHt"
      },
      "source": [
        "Cifrado"
      ]
    },
    {
      "cell_type": "code",
      "execution_count": 42,
      "metadata": {
        "id": "qlLd9oBsDPHu",
        "outputId": "5b94fe21-5c78-4b45-e68d-8965a6249f30",
        "colab": {
          "base_uri": "https://localhost:8080/"
        }
      },
      "outputs": [
        {
          "output_type": "stream",
          "name": "stdout",
          "text": [
            "Clave:  4c6f72656d20697073756d20646f6c6f722073697420616d657420636f6e7365637465747572206164697069736963696e6720656c69742e2046756769742c20616c69717569643f\n",
            "Tiempo de cifrado del archivo: 0.0019719600677490234 segundos\n"
          ]
        }
      ],
      "source": [
        "start_time1 = time()\n",
        "cipher = AES.new(key, AES.MODE_CBC, iv)\n",
        "ciphertext = cipher.encrypt(pad(book, AES.block_size))\n",
        "print(\"Clave: \", book.hex())\n",
        "encryption_time1 = time() - start_time1\n",
        "print(\"Tiempo de cifrado del archivo: {} segundos\".format(encryption_time1))"
      ]
    },
    {
      "cell_type": "markdown",
      "metadata": {
        "id": "HOUaz_ZsDPHu"
      },
      "source": [
        "Descifrado"
      ]
    },
    {
      "cell_type": "code",
      "execution_count": 43,
      "metadata": {
        "id": "29ZSAy2BDPHv",
        "outputId": "140823d2-865d-49d1-c5e7-7119ccaa4a5d",
        "colab": {
          "base_uri": "https://localhost:8080/"
        }
      },
      "outputs": [
        {
          "output_type": "stream",
          "name": "stdout",
          "text": [
            "Clave:  Lorem ipsum dolor sit amet consectetur adipisicing elit. Fugit, aliquid?\n",
            "Tiempo de descifrado del archivo: 0.0004916191101074219 segundos\n"
          ]
        }
      ],
      "source": [
        "start_time1 = time()\n",
        "cipher = AES.new(key, AES.MODE_CBC, iv)\n",
        "book = unpad(cipher.decrypt(ciphertext), AES.block_size)\n",
        "print(\"Clave: \", book.decode())\n",
        "encryption_time1 = time() - start_time1\n",
        "print(\"Tiempo de descifrado del archivo: {} segundos\".format(encryption_time1))"
      ]
    },
    {
      "cell_type": "markdown",
      "metadata": {
        "id": "3LAwkXQ2DPHw"
      },
      "source": [
        "# Algoritmo Asimétrico: Diffie Hellman"
      ]
    },
    {
      "cell_type": "markdown",
      "metadata": {
        "id": "ZnoxP0SiDPHw"
      },
      "source": [
        "Generación de clave"
      ]
    },
    {
      "cell_type": "code",
      "execution_count": 44,
      "metadata": {
        "id": "5KD87m4pDPHx",
        "outputId": "91f91ad7-6597-4a96-d89b-a8f7163f782f",
        "colab": {
          "base_uri": "https://localhost:8080/"
        }
      },
      "outputs": [
        {
          "output_type": "stream",
          "name": "stdout",
          "text": [
            "Clave publica Alice 31322062936\n",
            "Clave privada Alice 76620162131\n",
            "Clave publica Bob 54562693724\n",
            "Clave privada Bob 6139223495\n",
            "Tiempo de generación de clave: 0.006472349166870117 segundos\n"
          ]
        }
      ],
      "source": [
        "def power_modulo(base, exponent, modulus):\n",
        "    result = 1\n",
        "    while exponent > 0:\n",
        "        if exponent % 2 == 1:\n",
        "            result = (result * base) % modulus\n",
        "        base = (base * base) % modulus\n",
        "        exponent //= 2\n",
        "    return result\n",
        "prime = 98764321261\n",
        "generator = 5\n",
        "def generate_keys(prime, generator):\n",
        "    private_key = random.randint(2, prime - 2)\n",
        "    public_key = power_modulo(generator, private_key, prime)\n",
        "    return (private_key, public_key)\n",
        "\n",
        "def generate_shared_secret(private_key, public_key, prime):\n",
        "    shared_secret = power_modulo(public_key, private_key, prime)\n",
        "    return shared_secret\n",
        "\n",
        "start_time5 = time()\n",
        "alice_private_key, alice_public_key = generate_keys(prime, generator)\n",
        "print(\"Clave publica Alice\",alice_public_key)\n",
        "print(\"Clave privada Alice\",alice_private_key)\n",
        "# Generar las claves de Bob\n",
        "bob_private_key, bob_public_key = generate_keys(prime, generator)\n",
        "print(\"Clave publica Bob\",bob_public_key)\n",
        "print(\"Clave privada Bob\",bob_private_key)\n",
        "encryption_time5 = time() - start_time5\n",
        "print(\"Tiempo de generación de clave: {} segundos\".format(encryption_time5))"
      ]
    },
    {
      "cell_type": "markdown",
      "metadata": {
        "id": "6isC3fo1DPHy"
      },
      "source": [
        "# Función Hash: SHA_512"
      ]
    },
    {
      "cell_type": "markdown",
      "metadata": {
        "id": "_iDtU1lBDPHy"
      },
      "source": [
        "Generación de clave"
      ]
    },
    {
      "cell_type": "code",
      "execution_count": 45,
      "metadata": {
        "id": "P16O7z0ZDPHz",
        "outputId": "3de59a04-b9b6-48be-a73f-1a12247f085b",
        "colab": {
          "base_uri": "https://localhost:8080/"
        }
      },
      "outputs": [
        {
          "output_type": "stream",
          "name": "stdout",
          "text": [
            "Clave:  cf83e1357eefb8bdf1542850d66d8007d620e4050b5715dc83f4a921d36ce9ce47d0d13c5d85f2b0ff8318d2877eec2f63b931bd47417a81a538327af927da3e\n",
            "Tiempo de generación de clave: 0.001970052719116211 segundos\n"
          ]
        }
      ],
      "source": [
        "start_time1 = time()\n",
        "hash_object = hashlib.sha512()\n",
        "print(\"Clave: \", hash_object.hexdigest())\n",
        "encryption_time1 = time() - start_time1\n",
        "print(\"Tiempo de generación de clave: {} segundos\".format(encryption_time1))"
      ]
    },
    {
      "cell_type": "markdown",
      "source": [
        "Cifrado"
      ],
      "metadata": {
        "id": "KRcZixzOGOr5"
      }
    },
    {
      "cell_type": "code",
      "execution_count": 46,
      "metadata": {
        "id": "q36HRujODPHz",
        "outputId": "c377194e-86fa-4af8-aec7-cf71b7ca5efd",
        "colab": {
          "base_uri": "https://localhost:8080/"
        }
      },
      "outputs": [
        {
          "output_type": "stream",
          "name": "stdout",
          "text": [
            "Mensaje: b'Lorem ipsum dolor sit amet consectetur adipisicing elit. Fugit, aliquid?'\n",
            "Hash SHA-512: eb864f3607eb9ce0510b32b0f25dbc15f01b34917f5d89f811e76767281ec20fb70258bb76b6a21021b16963baf9f32982354dcc2da77b58c6f0ca1a439d3931\n",
            "Tiempo de cifrado: 0.0027320384979248047 segundos\n"
          ]
        }
      ],
      "source": [
        "def sha512_hash(message):\n",
        "    hash_object = hashlib.sha512()\n",
        "    hash_object.update(message)\n",
        "    return hash_object.hexdigest()\n",
        "\n",
        "start_time6 = time()\n",
        "sha512_result = sha512_hash(book)\n",
        "print(\"Mensaje:\", book)\n",
        "print(\"Hash SHA-512:\", sha512_result)\n",
        "encryption_time6 = time() - start_time6\n",
        "print(\"Tiempo de cifrado: {} segundos\".format(encryption_time6))"
      ]
    }
  ],
  "metadata": {
    "kernelspec": {
      "display_name": "Python 3",
      "language": "python",
      "name": "python3"
    },
    "language_info": {
      "codemirror_mode": {
        "name": "ipython",
        "version": 3
      },
      "file_extension": ".py",
      "mimetype": "text/x-python",
      "name": "python",
      "nbconvert_exporter": "python",
      "pygments_lexer": "ipython3",
      "version": "3.10.4"
    },
    "orig_nbformat": 4,
    "colab": {
      "provenance": []
    }
  },
  "nbformat": 4,
  "nbformat_minor": 0
}